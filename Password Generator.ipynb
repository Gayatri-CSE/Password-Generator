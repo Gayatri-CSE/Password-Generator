{
 "cells": [
  {
   "cell_type": "code",
   "execution_count": 1,
   "id": "b5bdf5cc-ed12-4482-8a99-70cd1ed065e4",
   "metadata": {},
   "outputs": [
    {
     "name": "stdin",
     "output_type": "stream",
     "text": [
      "Enter the desired password length (minimum 4):  8\n"
     ]
    },
    {
     "name": "stdout",
     "output_type": "stream",
     "text": [
      "Generated Password: po9mdZ&n\n"
     ]
    }
   ],
   "source": [
    "import random, string\n",
    "\n",
    "def generate_password(length=12):\n",
    "  if length < 4:\n",
    "    raise ValueError(\"Password length must be at least 4 characters\")\n",
    "\n",
    "  uppercase = string.ascii_uppercase\n",
    "  lowercase = string.ascii_lowercase\n",
    "  digits = string.digits\n",
    "  special_chars = \"!@#$%^&*()_+-=[]{}|;:',.<>?/\"\n",
    "\n",
    "  password = [\n",
    "      random.choice(uppercase),\n",
    "      random.choice(lowercase),\n",
    "      random.choice(digits),\n",
    "      random.choice(special_chars)\n",
    "  ]\n",
    "\n",
    "  all_chars = uppercase + lowercase + digits + special_chars\n",
    "  password += random.choices(all_chars, k=length - 4)\n",
    "\n",
    "  random.shuffle(password)\n",
    "\n",
    "  return ''.join(password)\n",
    "    \n",
    "try:\n",
    "  length = int(input(\"Enter the desired password length (minimum 4): \"))\n",
    "  password = generate_password(length)\n",
    "  print(\"Generated Password:\", password)\n",
    "except ValueError as e:\n",
    "  print(e)"
   ]
  },
  {
   "cell_type": "code",
   "execution_count": null,
   "id": "ab5a9df4-4343-49a9-8352-d3cd393c18b0",
   "metadata": {},
   "outputs": [],
   "source": []
  }
 ],
 "metadata": {
  "kernelspec": {
   "display_name": "Python 3 (ipykernel)",
   "language": "python",
   "name": "python3"
  },
  "language_info": {
   "codemirror_mode": {
    "name": "ipython",
    "version": 3
   },
   "file_extension": ".py",
   "mimetype": "text/x-python",
   "name": "python",
   "nbconvert_exporter": "python",
   "pygments_lexer": "ipython3",
   "version": "3.11.5"
  }
 },
 "nbformat": 4,
 "nbformat_minor": 5
}
